{
 "cells": [
  {
   "cell_type": "markdown",
   "metadata": {},
   "source": [
    "# Usando variables\n",
    "Las variables son un nombre que representa o guarda un valor, y que puedes usar más adelante, más de una vez.\n",
    "\n",
    "Por ejemplo, puedes usar una variable para tu año de nacimiento:"
   ]
  },
  {
   "cell_type": "code",
   "execution_count": 1,
   "metadata": {},
   "outputs": [],
   "source": [
    "año_nacimiento = 2010"
   ]
  },
  {
   "cell_type": "markdown",
   "metadata": {},
   "source": [
    "**Para mostrar lo que contiene una variable se usa `print(  )`, con la variable adentro de los paréntesis `(` y `)`**:"
   ]
  },
  {
   "cell_type": "code",
   "execution_count": 2,
   "metadata": {},
   "outputs": [
    {
     "name": "stdout",
     "output_type": "stream",
     "text": [
      "2010\n"
     ]
    }
   ],
   "source": [
    "print(año_nacimiento)"
   ]
  },
  {
   "cell_type": "markdown",
   "metadata": {},
   "source": [
    "Hay algunas mañas con los nombres de las variables:\n",
    "- Tienen que comenzar con una letra o el caracter `_`\n",
    "- Generalmente son una palabra o una descripción\n",
    "- No pueden contener espacios. Si quieres separar palabras usa el caracter `_`\n",
    "- Pueden tener números.\n",
    "\n",
    "Crea ahora una variable para almacenar tu edad."
   ]
  },
  {
   "cell_type": "code",
   "execution_count": 7,
   "metadata": {},
   "outputs": [
    {
     "name": "stdout",
     "output_type": "stream",
     "text": [
      "7\n"
     ]
    }
   ],
   "source": [
    "mi_edad = 7\n",
    "print(mi_edad)"
   ]
  },
  {
   "cell_type": "markdown",
   "metadata": {},
   "source": [
    "Las variables son de diferentes tipos. Hay variables que almacenan números, otros que almacenan `strings`:"
   ]
  },
  {
   "cell_type": "code",
   "execution_count": 4,
   "metadata": {},
   "outputs": [],
   "source": [
    "un_numero = 3345\n",
    "mi_nombre = \"Francisca\""
   ]
  },
  {
   "cell_type": "markdown",
   "metadata": {},
   "source": [
    "Las variables se pueden asignar y hacer operaciones entre ellas.\n",
    "\n",
    "Por ejemplo para sumar o restar dos números:"
   ]
  },
  {
   "cell_type": "code",
   "execution_count": 5,
   "metadata": {},
   "outputs": [
    {
     "name": "stdout",
     "output_type": "stream",
     "text": [
      "26\n"
     ]
    }
   ],
   "source": [
    "numero_1 = 16\n",
    "numero_2 = 10\n",
    "la_suma = numero_1 + numero_2\n",
    "print(la_suma)\n"
   ]
  },
  {
   "cell_type": "code",
   "execution_count": 6,
   "metadata": {},
   "outputs": [
    {
     "name": "stdout",
     "output_type": "stream",
     "text": [
      "6\n"
     ]
    }
   ],
   "source": [
    "la_resta = numero_1 - numero_2\n",
    "print(la_resta)"
   ]
  },
  {
   "cell_type": "code",
   "execution_count": null,
   "metadata": {},
   "outputs": [],
   "source": []
  }
 ],
 "metadata": {
  "kernelspec": {
   "display_name": "Python 3",
   "language": "python",
   "name": "python3"
  },
  "language_info": {
   "codemirror_mode": {
    "name": "ipython",
    "version": 3
   },
   "file_extension": ".py",
   "mimetype": "text/x-python",
   "name": "python",
   "nbconvert_exporter": "python",
   "pygments_lexer": "ipython3",
   "version": "3.5.2"
  }
 },
 "nbformat": 4,
 "nbformat_minor": 2
}
