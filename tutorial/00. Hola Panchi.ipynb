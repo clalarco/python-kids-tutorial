{
 "cells": [
  {
   "cell_type": "markdown",
   "metadata": {},
   "source": [
    "# ¡Hola Panchi!\n",
    "¡Esta página permite que programes y escribas fórmulas!\n",
    "\n",
    "Por ejemplo, puedes hacer sumas y multiplicaciones, o transformar texto:"
   ]
  },
  {
   "cell_type": "code",
   "execution_count": 8,
   "metadata": {},
   "outputs": [
    {
     "data": {
      "text/plain": [
       "5"
      ]
     },
     "execution_count": 8,
     "metadata": {},
     "output_type": "execute_result"
    }
   ],
   "source": [
    "# Una suma.\n",
    "2 + 3"
   ]
  },
  {
   "cell_type": "code",
   "execution_count": 7,
   "metadata": {},
   "outputs": [
    {
     "data": {
      "text/plain": [
       "36"
      ]
     },
     "execution_count": 7,
     "metadata": {},
     "output_type": "execute_result"
    }
   ],
   "source": [
    "# Una multiplicación\n",
    "3*12"
   ]
  },
  {
   "cell_type": "code",
   "execution_count": 6,
   "metadata": {},
   "outputs": [
    {
     "data": {
      "text/plain": [
       "'HOLA PANCHI'"
      ]
     },
     "execution_count": 6,
     "metadata": {},
     "output_type": "execute_result"
    }
   ],
   "source": [
    "# Vamos a mostrar \"hola Panchi\" con todas las letras mayúsculas.\n",
    "\"hola panchi\".upper()"
   ]
  },
  {
   "cell_type": "markdown",
   "metadata": {},
   "source": [
    "Para crear una **nueva caja** presiona el **botón con el signo + arriba**\n",
    "\n",
    "Para **escribir texto**, eliges **Markdown**. [Aquí hay un tutorial](https://markdown.es/sintaxis-markdown/)\n",
    "\n",
    "Para **programar**, eliges **Code**. El lenguaje es Python [y aquí hay un tutorial para comenzar](https://pythonista.io/cursos/py101/expresiones-y-declaraciones)\n",
    "\n",
    "Para que se **ejecute** el programa, presionas la tecla `Ctrl`, la dejas presionada y luego presonas `Enter`.\n",
    "\n",
    "Si quieres **editar** lo que aparece en una caja, le haces `Click dos veces rápidamente`."
   ]
  },
  {
   "cell_type": "code",
   "execution_count": null,
   "metadata": {},
   "outputs": [],
   "source": []
  }
 ],
 "metadata": {
  "kernelspec": {
   "display_name": "Python 3",
   "language": "python",
   "name": "python3"
  },
  "language_info": {
   "codemirror_mode": {
    "name": "ipython",
    "version": 3
   },
   "file_extension": ".py",
   "mimetype": "text/x-python",
   "name": "python",
   "nbconvert_exporter": "python",
   "pygments_lexer": "ipython3",
   "version": "3.5.2"
  }
 },
 "nbformat": 4,
 "nbformat_minor": 2
}
